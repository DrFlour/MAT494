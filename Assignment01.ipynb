{
  "nbformat": 4,
  "nbformat_minor": 0,
  "metadata": {
    "colab": {
      "name": "Assignment01.ipynb",
      "provenance": []
    },
    "kernelspec": {
      "name": "python3",
      "display_name": "Python 3"
    },
    "language_info": {
      "name": "python"
    }
  },
  "cells": [
    {
      "cell_type": "code",
      "execution_count": 1,
      "metadata": {
        "colab": {
          "base_uri": "https://localhost:8080/"
        },
        "id": "-3MPqsF3vnVf",
        "outputId": "f87b17dc-09b7-4551-8f43-86e0ed086313"
      },
      "outputs": [
        {
          "output_type": "stream",
          "name": "stdout",
          "text": [
            "[ 0  1  2  3  4  5  6  7  8  9 10 11 12 13 14 15 16 17 18 19 20]\n",
            "[0.78073787 0.32122678 0.59171348 0.79843057 0.7923627  0.72584228\n",
            " 0.37754005 0.77991045]\n",
            "[0. 0. 0. 0. 0. 0. 0. 0. 0. 0. 0. 0. 0. 0. 0. 0.]\n",
            "[1. 1. 1. 1. 1. 1. 1. 1. 1. 1. 1. 1. 1. 1. 1. 1. 1. 1. 1. 1. 1. 1. 1. 1.]\n",
            "[3. 3. 3. 3. 3. 3. 3. 3. 3. 3. 3. 3. 3. 3. 3. 3. 3. 3. 3. 3. 3. 3. 3. 3.]\n",
            "[ 1  2  3  4  5  6  7  8  9 10 11 12 13 14 15 16 17 18 19 20 21 22 23 24]\n",
            "1\n",
            "[2 3 4]\n",
            "[3 4 5 6]\n",
            "[4 5 6 7 8]\n",
            "[ 5  6  7  8  9 10]\n",
            "[ 6  7  8  9 10 11 12]\n",
            "[ 7  8  9 10 11 12 13 14]\n",
            "[ 8  9 10 11 12 13 14 15 16]\n",
            "[ 9 10 11 12 13 14 15 16 17 18]\n",
            "[10 11 12 13 14 15 16 17 18 19 20]\n"
          ]
        }
      ],
      "source": [
        "import numpy as np\n",
        "a = np.arange(21)\n",
        "print(a)\n",
        "\n",
        "# use random numbers to populate an array\n",
        "ranNum = np.random.rand(8)\n",
        "print(ranNum)\n",
        "\n",
        "LING = np.zeros(16)\n",
        "YI = np.ones(24)\n",
        "ER = np.ones(24)*3\n",
        "print(LING)\n",
        "print(YI)\n",
        "print(ER)\n",
        "\n",
        "a = np.arange(24)+1\n",
        "print(a)\n",
        "print(a[0])\n",
        "print(a[1:4])\n",
        "print(a[2:6])\n",
        "print(a[3:8])\n",
        "print(a[4:10])\n",
        "print(a[5:12])\n",
        "print(a[6:14])\n",
        "print(a[7:16])\n",
        "print(a[8:18])\n",
        "print(a[9:20])"
      ]
    }
  ]
}