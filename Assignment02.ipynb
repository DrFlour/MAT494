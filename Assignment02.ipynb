{
  "nbformat": 4,
  "nbformat_minor": 0,
  "metadata": {
    "colab": {
      "provenance": []
    },
    "kernelspec": {
      "name": "python3",
      "display_name": "Python 3"
    },
    "language_info": {
      "name": "python"
    }
  },
  "cells": [
    {
      "cell_type": "code",
      "execution_count": 3,
      "metadata": {
        "colab": {
          "base_uri": "https://localhost:8080/"
        },
        "id": "VnIBO7DYqx95",
        "outputId": "63a41615-4a9c-4556-ce47-8c50c88bcab7"
      },
      "outputs": [
        {
          "output_type": "stream",
          "name": "stdout",
          "text": [
            "[[0. 0. 0. 0. 0. 0. 0. 0. 0. 0.]] \n",
            "\n",
            "len = 1\n",
            "shape = (1, 10)\n",
            "nx = 1\n",
            "[16. 16. 16. 16. 16. 16. 16. 16.] \n",
            "\n",
            "[16. 16. 16. 16. 16. 16. 16. 16.] \n",
            "\n",
            "[[16 16 16 16 16 16 16 16]\n",
            " [16 16 16 16 16 16 16 16]] \n",
            "\n",
            "[[1. 0. 0. 0. 0.]\n",
            " [0. 1. 0. 0. 0.]\n",
            " [0. 0. 1. 0. 0.]\n",
            " [0. 0. 0. 1. 0.]\n",
            " [0. 0. 0. 0. 1.]] \n",
            "\n",
            "[[  2   3   4   5   6   7   8]\n",
            " [ 20  30  40  50  60  70  80]\n",
            " [200 300 400 500 600 700 800]] \n",
            "\n",
            "[2 3 4 5 6 7 8] \n",
            "\n",
            "[20 30 40 50 60 70 80] \n",
            "\n",
            "[200 300 400 500 600 700 800] \n",
            "\n"
          ]
        }
      ],
      "source": [
        "import numpy as np\n",
        "a = np.zeros((1,10))\n",
        "print(a, '\\n')\n",
        "\n",
        "# shape of the array\n",
        "print('len =',len(a))\n",
        "print('shape =',a.shape)\n",
        "\n",
        "a = np.zeros((1,10))\n",
        "nx,ny = a.shape\n",
        "print('nx =', nx)\n",
        "\n",
        "a = np.zeros(8) + 16\n",
        "b = np.ones(8) * 16\n",
        "c = np.full((2,8), 16)\n",
        "print(a, '\\n')\n",
        "print(b, '\\n')\n",
        "print(c, '\\n')\n",
        "\n",
        "a = np.eye(5)\n",
        "print(a, '\\n')\n",
        "\n",
        "a = np.array([[2,3,4,5,6,7,8], [20,30,40,50,60,70,80], [200,300,400,500,600,700,800]])\n",
        "print(a, '\\n')\n",
        "\n",
        "b = a[0, :]\n",
        "print(b, '\\n')\n",
        "b = a[1, :]\n",
        "print(b, '\\n')\n",
        "b = a[2, :]\n",
        "print(b, '\\n')"
      ]
    }
  ]
}