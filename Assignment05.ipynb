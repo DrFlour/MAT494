{
  "nbformat": 4,
  "nbformat_minor": 0,
  "metadata": {
    "colab": {
      "provenance": [],
      "authorship_tag": "ABX9TyMNoRoMDSykY1yOVlWzIxIV",
      "include_colab_link": true
    },
    "kernelspec": {
      "name": "python3",
      "display_name": "Python 3"
    },
    "language_info": {
      "name": "python"
    }
  },
  "cells": [
    {
      "cell_type": "markdown",
      "metadata": {
        "id": "view-in-github",
        "colab_type": "text"
      },
      "source": [
        "<a href=\"https://colab.research.google.com/github/DrFlour/MAT494/blob/main/Assignment05.ipynb\" target=\"_parent\"><img src=\"https://colab.research.google.com/assets/colab-badge.svg\" alt=\"Open In Colab\"/></a>"
      ]
    },
    {
      "cell_type": "code",
      "execution_count": 2,
      "metadata": {
        "colab": {
          "base_uri": "https://localhost:8080/",
          "height": 394
        },
        "id": "8W0em-sekasx",
        "outputId": "d454d810-4526-4f8b-e6c0-91ee7af02416"
      },
      "outputs": [
        {
          "output_type": "display_data",
          "data": {
            "text/plain": [
              "<Figure size 432x288 with 1 Axes>"
            ],
            "image/png": "[encoded data removed]"
          },
          "metadata": {
            "needs_background": "light"
          }
        },
        {
          "output_type": "stream",
          "name": "stdout",
          "text": [
            "The 0 time of iteration：x value is  1.5999999999999996\n",
            "The 1 time of iteration：x value is  0.31999999999999984\n",
            "The 2 time of iteration：x value is  0.06399999999999995\n",
            "The 3 time of iteration：x value is  0.012799999999999985\n",
            "The 4 time of iteration：x value is  0.0025599999999999963\n",
            " local minimum of x value= 0.0025599999999999963\n"
          ]
        },
        {
          "output_type": "execute_result",
          "data": {
            "text/plain": [
              "0.0025599999999999963"
            ]
          },
          "metadata": {},
          "execution_count": 2
        }
      ],
      "source": [
        "import matplotlib.pyplot as plt\n",
        "import numpy as np\n",
        "import numpy.linalg as npl\n",
        "\n",
        "x = np.linspace(-16,16,1600)\n",
        "y = x * 16 + 8\n",
        "plt.grid()\n",
        "plt.plot(x,y)\n",
        "plt.show()\n",
        "\n",
        "def gradient_descent_1d(grad, cur_x=0.8, learning_rate=0.08, precision=0.0008, max_iters=80000):\n",
        "    for i in range(max_iters):\n",
        "        grad_cur = grad(cur_x)\n",
        "        if abs(grad_cur) < precision:\n",
        "            break  # When the gradient approaches 0, it is regarded as convergent\n",
        "        cur_x = cur_x - grad_cur * learning_rate\n",
        "        print(\"The\", i, \"time of iteration：x value is \", cur_x)\n",
        "    print(\" local minimum of x value=\", cur_x)\n",
        "    return cur_x\n",
        "\n",
        "def grad_1d(x):\n",
        "    return x \n",
        "\n",
        "gradient_descent_1d(grad_1d, cur_x=8, learning_rate=0.8, precision=0.008, max_iters=8000)"
      ]
    }
  ]
}