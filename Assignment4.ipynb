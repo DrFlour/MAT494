{
  "nbformat": 4,
  "nbformat_minor": 0,
  "metadata": {
    "colab": {
      "provenance": [],
      "authorship_tag": "ABX9TyM/s/x6yAe1rPDNiAdflLMC",
      "include_colab_link": true
    },
    "kernelspec": {
      "name": "python3",
      "display_name": "Python 3"
    },
    "language_info": {
      "name": "python"
    }
  },
  "cells": [
    {
      "cell_type": "markdown",
      "metadata": {
        "id": "view-in-github",
        "colab_type": "text"
      },
      "source": [
        "<a href=\"https://colab.research.google.com/github/DrFlour/MAT494/blob/main/Assignment4.ipynb\" target=\"_parent\"><img src=\"https://colab.research.google.com/assets/colab-badge.svg\" alt=\"Open In Colab\"/></a>"
      ]
    },
    {
      "cell_type": "code",
      "execution_count": 1,
      "metadata": {
        "colab": {
          "base_uri": "https://localhost:8080/",
          "height": 157
        },
        "id": "Um9j50MGSFyH",
        "outputId": "33e5b030-7461-4851-b527-2ee54dc389b1"
      },
      "outputs": [
        {
          "output_type": "stream",
          "name": "stdout",
          "text": [
            "cos(80)/80\n",
            "exp(4)\n",
            "1st derivative:  16777216*sin(8*x)\n",
            "2nd derivative:  16777216*cos(8*x)\n",
            "3rd derivative:  2147483648*(tan(8*x)**2 + 1)*(62*(tan(8*x)**2 + 1)**3 + 192*(tan(8*x)**2 + 1)**2*tan(8*x)**2 + 60*(tan(8*x)**2 + 1)*tan(8*x)**4 + tan(8*x)**6)*tan(8*x)\n",
            "4th derivative:  2147483648*(cot(8*x)**2 + 1)*(62*(cot(8*x)**2 + 1)**3 + 192*(cot(8*x)**2 + 1)**2*cot(8*x)**2 + 60*(cot(8*x)**2 + 1)*cot(8*x)**4 + cot(8*x)**6)*cot(8*x)\n"
          ]
        },
        {
          "output_type": "execute_result",
          "data": {
            "text/plain": [
              "exp(-4)*cos(x + 8)"
            ],
            "text/latex": "$\\displaystyle \\frac{\\cos{\\left(x + 8 \\right)}}{e^{4}}$"
          },
          "metadata": {},
          "execution_count": 1
        }
      ],
      "source": [
        "import sympy as sym\n",
        "\n",
        "# declaring variables\n",
        "x, y, z, a, b, c = sym.symbols('x, y, z, a, b, c')\n",
        "\n",
        "f = sym.cos(x) / x\n",
        "print(sym.limit(f, x,80))\n",
        "\n",
        "n = sym.symbols('n')\n",
        "print(sym.limit(((n + 8) / (n + 4)) ** n, n, sym.oo))\n",
        "\n",
        "# we take the derivative using diff\n",
        "first = sym.diff(sym.sin(8 * x), x, 8) \n",
        "second = sym.diff(sym.cos(8*x), x, 8) \n",
        "third = sym.diff(sym.tan(8*x), x, 8)\n",
        "fourth = sym.diff(sym.cot(8*x), x, 8)\n",
        "print('1st derivative: ', first) \n",
        "print('2nd derivative: ', second) \n",
        "print('3rd derivative: ', third) \n",
        "print('4th derivative: ', fourth)\n",
        "\n",
        "# notice the difference of the output format\n",
        "sym.diff(sym.exp(-4) * sym.sin(8 + x))"
      ]
    }
  ]
}