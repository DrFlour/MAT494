{
  "nbformat": 4,
  "nbformat_minor": 0,
  "metadata": {
    "colab": {
      "provenance": [],
      "authorship_tag": "ABX9TyNTypxOtty6whR2g0DGsdLG",
      "include_colab_link": true
    },
    "kernelspec": {
      "name": "python3",
      "display_name": "Python 3"
    },
    "language_info": {
      "name": "python"
    }
  },
  "cells": [
    {
      "cell_type": "markdown",
      "metadata": {
        "id": "view-in-github",
        "colab_type": "text"
      },
      "source": [
        "<a href=\"https://colab.research.google.com/github/DrFlour/MAT494/blob/main/Assignment06.ipynb\" target=\"_parent\"><img src=\"https://colab.research.google.com/assets/colab-badge.svg\" alt=\"Open In Colab\"/></a>"
      ]
    },
    {
      "cell_type": "code",
      "execution_count": 12,
      "metadata": {
        "colab": {
          "base_uri": "https://localhost:8080/"
        },
        "id": "HRUT3XRgIQ0L",
        "outputId": "43df7480-77c0-4a9e-cda9-6a27dd78433f"
      },
      "outputs": [
        {
          "output_type": "execute_result",
          "data": {
            "text/plain": [
              "array([[ 1.35943254,  0.09864849,  0.11824834, -0.00584294, -0.06410935,\n",
              "        -0.2476331 , -0.35902288, -0.1629577 , -0.09051922, -0.01539104,\n",
              "         0.0385562 ,  0.67935042,  0.18484503, -0.0958776 , -0.00634285,\n",
              "        -0.03667927, -0.0604216 , -0.02039661, -0.02010724, -0.00257412,\n",
              "         1.27180559, -0.28424011, -0.2076009 , -0.02074434, -0.11699045,\n",
              "        -0.73944617, -0.94464083, -0.31268861, -0.28185315, -0.0718045 ]])"
            ]
          },
          "metadata": {},
          "execution_count": 12
        }
      ],
      "source": [
        "from sklearn.linear_model import LogisticRegression as LR\n",
        "from sklearn.datasets import load_breast_cancer\n",
        "from sklearn.datasets import load_iris\n",
        "import numpy as np\n",
        "import matplotlib.pyplot as plt\n",
        "     \n",
        "data = load_breast_cancer()\n",
        "X = data.data\n",
        "y = data.target\n",
        "\n",
        "lrl1 = LR(penalty=\"l1\",solver=\"liblinear\",C=0.8,max_iter=4000)\n",
        "lrl1 = lrl1.fit(X,y)\n",
        "lrl1.coef_\n",
        "\n",
        "(lrl1.coef_ != 0).sum(axis=1)#array([10])  \n",
        "\n",
        "lrl2 = LR(penalty=\"l2\",solver=\"liblinear\",C=0.4,max_iter=8000)\n",
        "lrl2 = lrl2.fit(X,y)\n",
        "lrl2.coef_"
      ]
    }
  ]
}